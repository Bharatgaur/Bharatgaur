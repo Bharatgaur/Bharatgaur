{
  "nbformat": 4,
  "nbformat_minor": 0,
  "metadata": {
    "colab": {
      "provenance": [],
      "authorship_tag": "ABX9TyPzmB5L+gncovuKIVM78YNF",
      "include_colab_link": true
    },
    "kernelspec": {
      "name": "python3",
      "display_name": "Python 3"
    },
    "language_info": {
      "name": "python"
    }
  },
  "cells": [
    {
      "cell_type": "markdown",
      "metadata": {
        "id": "view-in-github",
        "colab_type": "text"
      },
      "source": [
        "<a href=\"https://colab.research.google.com/github/Bharatgaur/Bharatgaur/blob/main/TRADE_PROBABILITIES.ipynb\" target=\"_parent\"><img src=\"https://colab.research.google.com/assets/colab-badge.svg\" alt=\"Open In Colab\"/></a>"
      ]
    },
    {
      "cell_type": "code",
      "execution_count": 7,
      "metadata": {
        "colab": {
          "base_uri": "https://localhost:8080/"
        },
        "id": "-G5Nzk0QHWh0",
        "outputId": "29ecf5e7-4025-40e7-c4e1-c2ddf24ac952"
      },
      "outputs": [
        {
          "output_type": "stream",
          "name": "stdout",
          "text": [
            "CSV file 'trade_status.csv' has been created.\n"
          ]
        }
      ],
      "source": [
        "import pandas as pd\n",
        "import random\n",
        "\n",
        "# Define the words and their respective probabilities\n",
        "words = [\"STOP LOSS\", \"TARGET\"]\n",
        "probabilities = [0.6, 0.4]\n",
        "\n",
        "# Generate 1000 random statuses based on the given probabilities\n",
        "statuses = random.choices(words, probabilities, k=1000)\n",
        "\n",
        "# Generate trade numbers from \"TRADE 0001\" to \"TRADE 1000\"\n",
        "trade_numbers = [f\"TRADE {str(i).zfill(4)}\" for i in range(1, 1001)]\n",
        "\n",
        "# Create the DataFrame\n",
        "df = pd.DataFrame({\n",
        "    \"TRADE NO\": trade_numbers,\n",
        "    \"STATUS\": statuses\n",
        "})\n",
        "\n",
        "# Save the DataFrame to a CSV file\n",
        "df.to_csv('trade_status.csv', index=False)\n",
        "\n",
        "# Print confirmation message\n",
        "print(\"CSV file 'trade_status.csv' has been created.\")\n"
      ]
    },
    {
      "cell_type": "code",
      "source": [
        "import pandas as pd\n",
        "import random\n",
        "\n",
        "# Define the words and their respective probabilities\n",
        "words = [\"STOP LOSS\", \"TARGET\"]\n",
        "probabilities = [0.6, 0.4]\n",
        "\n",
        "# Function to generate a single DataFrame and save it as a CSV\n",
        "def generate_trade_status_csv(file_number):\n",
        "    # Generate 1000 random statuses\n",
        "    statuses = random.choices(words, probabilities, k=1000)\n",
        "\n",
        "    # Generate trade numbers from \"TRADE 0001\" to \"TRADE 1000\"\n",
        "    trade_numbers = [f\"TRADE {str(i).zfill(4)}\" for i in range(1, 1001)]\n",
        "\n",
        "    # Create the DataFrame\n",
        "    df = pd.DataFrame({\n",
        "        \"TRADE NO\": trade_numbers,\n",
        "        \"STATUS\": statuses\n",
        "    })\n",
        "\n",
        "    # Generate the file name with leading zero (e.g., trade_status_01.csv)\n",
        "    filename = f\"trade_status_{str(file_number).zfill(2)}.csv\"\n",
        "\n",
        "    # Save the DataFrame to a CSV file\n",
        "    df.to_csv(filename, index=False)\n",
        "    print(f\"CSV file '{filename}' has been created.\")\n",
        "\n",
        "# Run the process 20 times to generate 20 CSV files\n",
        "for i in range(1, 21):\n",
        "    generate_trade_status_csv(i)\n"
      ],
      "metadata": {
        "colab": {
          "base_uri": "https://localhost:8080/"
        },
        "id": "ZsEUpYJ3HzvI",
        "outputId": "3d19cf74-7d80-4c1f-e3d1-51314a3992d2"
      },
      "execution_count": 8,
      "outputs": [
        {
          "output_type": "stream",
          "name": "stdout",
          "text": [
            "CSV file 'trade_status_01.csv' has been created.\n",
            "CSV file 'trade_status_02.csv' has been created.\n",
            "CSV file 'trade_status_03.csv' has been created.\n",
            "CSV file 'trade_status_04.csv' has been created.\n",
            "CSV file 'trade_status_05.csv' has been created.\n",
            "CSV file 'trade_status_06.csv' has been created.\n",
            "CSV file 'trade_status_07.csv' has been created.\n",
            "CSV file 'trade_status_08.csv' has been created.\n",
            "CSV file 'trade_status_09.csv' has been created.\n",
            "CSV file 'trade_status_10.csv' has been created.\n",
            "CSV file 'trade_status_11.csv' has been created.\n",
            "CSV file 'trade_status_12.csv' has been created.\n",
            "CSV file 'trade_status_13.csv' has been created.\n",
            "CSV file 'trade_status_14.csv' has been created.\n",
            "CSV file 'trade_status_15.csv' has been created.\n",
            "CSV file 'trade_status_16.csv' has been created.\n",
            "CSV file 'trade_status_17.csv' has been created.\n",
            "CSV file 'trade_status_18.csv' has been created.\n",
            "CSV file 'trade_status_19.csv' has been created.\n",
            "CSV file 'trade_status_20.csv' has been created.\n"
          ]
        }
      ]
    },
    {
      "cell_type": "code",
      "source": [],
      "metadata": {
        "id": "F0F2lfY4I_ZV"
      },
      "execution_count": null,
      "outputs": []
    }
  ]
}